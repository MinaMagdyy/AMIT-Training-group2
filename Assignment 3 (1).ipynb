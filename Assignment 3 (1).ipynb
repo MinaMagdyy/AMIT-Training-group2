{
 "cells": [
  {
   "cell_type": "markdown",
   "metadata": {},
   "source": [
    "# Assignment 3"
   ]
  },
  {
   "cell_type": "markdown",
   "metadata": {},
   "source": [
    "### Write a function to count the number 4 in a given list."
   ]
  },
  {
   "cell_type": "code",
   "execution_count": 11,
   "metadata": {},
   "outputs": [
    {
     "name": "stdout",
     "output_type": "stream",
     "text": [
      "enter the givin list numbers seperated by comma 4,5,4,5,8,2,3,4,4,5,1\n",
      "4\n"
     ]
    }
   ],
   "source": [
    "l = [] #you can put the given list here\n",
    "\n",
    "n = 0\n",
    "\n",
    "s = input(\"enter the givin list numbers seperated by comma \") #or take it from the user as this\n",
    "\n",
    "try:\n",
    "    \n",
    "    l = map(int,s.split(\",\")) #split the input numbers and make sure it's integer numbers and save it in the list\n",
    "    \n",
    "    for i in l: #loop on the given list\n",
    "\n",
    "        if(i == 4):\n",
    "        \n",
    "            n += 1\n",
    "        \n",
    "    print(n)\n",
    "\n",
    "except:\n",
    "\n",
    "    print(\"make sure it's numbers\")\n"
   ]
  },
  {
   "cell_type": "markdown",
   "metadata": {},
   "source": [
    "### write a  function to check whether a number is divisible by another number."
   ]
  },
  {
   "cell_type": "code",
   "execution_count": 15,
   "metadata": {},
   "outputs": [
    {
     "name": "stdout",
     "output_type": "stream",
     "text": [
      "enter the number you want to check 8\n",
      "enter the number division number 4\n",
      "the number 8 is divisable by 4\n"
     ]
    }
   ],
   "source": [
    "n1 = int(input(\"enter the number you want to check \")) #takes integer numbers only\n",
    "\n",
    "n2 = int(input(\"enter the number division number \")) #takes integer numbers only\n",
    "\n",
    "if(n1 % n2 == 0):\n",
    "    \n",
    "    print(\"the number {} is divisable by {}\".format(n1,n2))\n",
    "    \n",
    "else:\n",
    "    \n",
    "    print(\"the number {} isnot divisable by {}\".format(n1,n2))"
   ]
  },
  {
   "cell_type": "markdown",
   "metadata": {},
   "source": [
    "### write a function to find the maximum and minimum numbers from a sequence of numbers."
   ]
  },
  {
   "cell_type": "code",
   "execution_count": 18,
   "metadata": {},
   "outputs": [
    {
     "name": "stdout",
     "output_type": "stream",
     "text": [
      "the maximum number is 16 and the minimum number is 1\n"
     ]
    }
   ],
   "source": [
    "l = [16,5,3,4,6,9,2,1,5,10,15]\n",
    "\n",
    "maxi = 0\n",
    "\n",
    "mini = 99999\n",
    "\n",
    "for i in l:\n",
    "\n",
    "    if(i > maxi): #chack the maximum number\n",
    "        \n",
    "        maxi=i #save the maximum number\n",
    "    \n",
    "    elif(i < mini): #chack the minimum number\n",
    "        \n",
    "        mini = i #save the minimum number\n",
    "        \n",
    "print(\"the maximum number is {} and the minimum number is {}\".format(maxi,mini))"
   ]
  },
  {
   "cell_type": "markdown",
   "metadata": {},
   "source": [
    "### Write a Python function that takes two lists and returns True if they have at least one common member."
   ]
  },
  {
   "cell_type": "code",
   "execution_count": 24,
   "metadata": {},
   "outputs": [
    {
     "name": "stdout",
     "output_type": "stream",
     "text": [
      "True\n"
     ]
    }
   ],
   "source": [
    "list1 = [1,2,3,4,5,6]\n",
    "\n",
    "list2 = [7,8,9,4,10,11]\n",
    "\n",
    "def comparelists(list1,list2):\n",
    "    \n",
    "    for i in list1: #loop in first list\n",
    "        \n",
    "        for x in list2: #loop in last list\n",
    "            \n",
    "            if( i == x ):\n",
    "                \n",
    "                return True\n",
    "\n",
    "            \n",
    "            \n",
    "                \n",
    "print(comparelists(list1,list2))"
   ]
  },
  {
   "cell_type": "markdown",
   "metadata": {},
   "source": [
    "### Write a Python function to calculate the factorial of a number (a non-negative integer). The function accepts the number from the user"
   ]
  },
  {
   "cell_type": "code",
   "execution_count": 2,
   "metadata": {},
   "outputs": [
    {
     "name": "stdout",
     "output_type": "stream",
     "text": [
      "inter the number to get it's facturail 5\n",
      "120\n"
     ]
    }
   ],
   "source": [
    "def fact(number): #recursave function\n",
    "    \n",
    "    if(number == 1):\n",
    "        \n",
    "        return number\n",
    "    \n",
    "    else:\n",
    "        \n",
    "        return number * fact(number - 1)\n",
    "\n",
    "n = int(input(\"inter the number to get it's facturail \"))\n",
    "\n",
    "print(fact(n))"
   ]
  },
  {
   "cell_type": "markdown",
   "metadata": {},
   "source": [
    "### Write a Python function to check whether a number is in a given range.\n",
    "\n",
    "### The range is from 3 to 11\n"
   ]
  },
  {
   "cell_type": "code",
   "execution_count": 3,
   "metadata": {},
   "outputs": [
    {
     "name": "stdout",
     "output_type": "stream",
     "text": [
      "enter number5\n",
      "the number is in range from 3 to 11\n"
     ]
    }
   ],
   "source": [
    "number = int(input(\"enter number\"))\n",
    "\n",
    "if(number > 3 and number < 11):\n",
    "    \n",
    "    print(\"the number is in range from 3 to 11\")\n",
    "    \n",
    "else:  \n",
    "    \n",
    "    print(\"the number isnot in range from 3 to 11\")"
   ]
  },
  {
   "cell_type": "markdown",
   "metadata": {},
   "source": [
    "### Write a  program to create the multiplication table (from 1 to 10) of a number."
   ]
  },
  {
   "cell_type": "code",
   "execution_count": 3,
   "metadata": {},
   "outputs": [
    {
     "name": "stdout",
     "output_type": "stream",
     "text": [
      "enter the number u want to get it's multiplication table 5\n",
      "1 * 5 = 5\n",
      "2 * 5 = 10\n",
      "3 * 5 = 15\n",
      "4 * 5 = 20\n",
      "5 * 5 = 25\n",
      "6 * 5 = 30\n",
      "7 * 5 = 35\n",
      "8 * 5 = 40\n",
      "9 * 5 = 45\n",
      "10 * 5 = 50\n"
     ]
    }
   ],
   "source": [
    "n= int(input(\"enter the number u want to get it's multiplication table \"))\n",
    "\n",
    "for i in range(1,11): #loop from 1 to 10 \n",
    "    \n",
    "    print(i,\"*\",n ,\"=\", i*n)"
   ]
  },
  {
   "cell_type": "code",
   "execution_count": 1,
   "metadata": {},
   "outputs": [
    {
     "name": "stdout",
     "output_type": "stream",
     "text": [
      "1 * 1 = 1\n",
      "1 * 2 = 2\n",
      "1 * 3 = 3\n",
      "1 * 4 = 4\n",
      "1 * 5 = 5\n",
      "1 * 6 = 6\n",
      "1 * 7 = 7\n",
      "1 * 8 = 8\n",
      "1 * 9 = 9\n",
      "1 * 10 = 10\n",
      "_____________________________________________________\n",
      "2 * 1 = 2\n",
      "2 * 2 = 4\n",
      "2 * 3 = 6\n",
      "2 * 4 = 8\n",
      "2 * 5 = 10\n",
      "2 * 6 = 12\n",
      "2 * 7 = 14\n",
      "2 * 8 = 16\n",
      "2 * 9 = 18\n",
      "2 * 10 = 20\n",
      "_____________________________________________________\n",
      "3 * 1 = 3\n",
      "3 * 2 = 6\n",
      "3 * 3 = 9\n",
      "3 * 4 = 12\n",
      "3 * 5 = 15\n",
      "3 * 6 = 18\n",
      "3 * 7 = 21\n",
      "3 * 8 = 24\n",
      "3 * 9 = 27\n",
      "3 * 10 = 30\n",
      "_____________________________________________________\n",
      "4 * 1 = 4\n",
      "4 * 2 = 8\n",
      "4 * 3 = 12\n",
      "4 * 4 = 16\n",
      "4 * 5 = 20\n",
      "4 * 6 = 24\n",
      "4 * 7 = 28\n",
      "4 * 8 = 32\n",
      "4 * 9 = 36\n",
      "4 * 10 = 40\n",
      "_____________________________________________________\n",
      "5 * 1 = 5\n",
      "5 * 2 = 10\n",
      "5 * 3 = 15\n",
      "5 * 4 = 20\n",
      "5 * 5 = 25\n",
      "5 * 6 = 30\n",
      "5 * 7 = 35\n",
      "5 * 8 = 40\n",
      "5 * 9 = 45\n",
      "5 * 10 = 50\n",
      "_____________________________________________________\n",
      "6 * 1 = 6\n",
      "6 * 2 = 12\n",
      "6 * 3 = 18\n",
      "6 * 4 = 24\n",
      "6 * 5 = 30\n",
      "6 * 6 = 36\n",
      "6 * 7 = 42\n",
      "6 * 8 = 48\n",
      "6 * 9 = 54\n",
      "6 * 10 = 60\n",
      "_____________________________________________________\n",
      "7 * 1 = 7\n",
      "7 * 2 = 14\n",
      "7 * 3 = 21\n",
      "7 * 4 = 28\n",
      "7 * 5 = 35\n",
      "7 * 6 = 42\n",
      "7 * 7 = 49\n",
      "7 * 8 = 56\n",
      "7 * 9 = 63\n",
      "7 * 10 = 70\n",
      "_____________________________________________________\n",
      "8 * 1 = 8\n",
      "8 * 2 = 16\n",
      "8 * 3 = 24\n",
      "8 * 4 = 32\n",
      "8 * 5 = 40\n",
      "8 * 6 = 48\n",
      "8 * 7 = 56\n",
      "8 * 8 = 64\n",
      "8 * 9 = 72\n",
      "8 * 10 = 80\n",
      "_____________________________________________________\n",
      "9 * 1 = 9\n",
      "9 * 2 = 18\n",
      "9 * 3 = 27\n",
      "9 * 4 = 36\n",
      "9 * 5 = 45\n",
      "9 * 6 = 54\n",
      "9 * 7 = 63\n",
      "9 * 8 = 72\n",
      "9 * 9 = 81\n",
      "9 * 10 = 90\n",
      "_____________________________________________________\n",
      "10 * 1 = 10\n",
      "10 * 2 = 20\n",
      "10 * 3 = 30\n",
      "10 * 4 = 40\n",
      "10 * 5 = 50\n",
      "10 * 6 = 60\n",
      "10 * 7 = 70\n",
      "10 * 8 = 80\n",
      "10 * 9 = 90\n",
      "10 * 10 = 100\n",
      "_____________________________________________________\n"
     ]
    }
   ],
   "source": [
    "#the hole multiplication table\n",
    "\n",
    "for i in range(1,11):#loop for number\n",
    "    \n",
    "    for k in range(1,11): #loop for it's multplications\n",
    "        \n",
    "        print(i,\"*\",k,\"=\",i*k)\n",
    "        \n",
    "    print(\"_____________________________________________________\")\n",
    "    "
   ]
  },
  {
   "cell_type": "markdown",
   "metadata": {},
   "source": [
    "#### LESSER OF TWO EVENS: Write a function that returns the lesser of two given numbers *if* both numbers are even, but returns the greater if one or both numbers are odd\n",
    "    lesser_of_two_evens(2,4) --> 2\n",
    "    lesser_of_two_evens(2,5) --> 5"
   ]
  },
  {
   "cell_type": "code",
   "execution_count": 13,
   "metadata": {},
   "outputs": [
    {
     "name": "stdout",
     "output_type": "stream",
     "text": [
      "enter the first number 12\n",
      "enter the second number 5\n",
      "the maximum number =  12\n"
     ]
    }
   ],
   "source": [
    "n1 = int(input(\"enter the first number \"))\n",
    "\n",
    "n2 = int(input(\"enter the second number \"))\n",
    "\n",
    "\n",
    "\n",
    "def lesser_of_two_evens(number1,number2):\n",
    "    \n",
    "    l= list((number1,number2))\n",
    "    \n",
    "    if(number1 % 2 == 0 and number2 % 2 == 0):\n",
    "        \n",
    "        print(\"the minimum number = \",min(l))\n",
    "        \n",
    "    elif(number1 % 2 == 1 or number2 % 2 == 1):\n",
    "        \n",
    "        print(\"the maximum number = \",max(l))\n",
    "        \n",
    "lesser_of_two_evens(n1,n2)"
   ]
  },
  {
   "cell_type": "code",
   "execution_count": null,
   "metadata": {},
   "outputs": [],
   "source": []
  }
 ],
 "metadata": {
  "kernelspec": {
   "display_name": "Python 3 (ipykernel)",
   "language": "python",
   "name": "python3"
  },
  "language_info": {
   "codemirror_mode": {
    "name": "ipython",
    "version": 3
   },
   "file_extension": ".py",
   "mimetype": "text/x-python",
   "name": "python",
   "nbconvert_exporter": "python",
   "pygments_lexer": "ipython3",
   "version": "3.9.12"
  }
 },
 "nbformat": 4,
 "nbformat_minor": 2
}
